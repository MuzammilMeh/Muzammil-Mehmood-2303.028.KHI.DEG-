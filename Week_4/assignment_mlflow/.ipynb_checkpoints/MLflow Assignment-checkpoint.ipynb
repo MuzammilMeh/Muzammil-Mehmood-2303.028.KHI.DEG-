{
 "cells": [
  {
   "cell_type": "markdown",
   "id": "6505a7ad",
   "metadata": {},
   "source": [
    "## What is MLFlow and its Components\n",
    "\n",
    "MLFLow is an open source platform to manage the ML lifecycle, including experimentation, reproducibility, deployment, and a central model registry. MLFLow currently offers four components:\n"
   ]
  },
  {
   "cell_type": "markdown",
   "id": "5745f450",
   "metadata": {},
   "source": [
    "<img src=\"mlflow.png\">\n",
    "\n",
    "\n",
    "https://www.mlflow.org/"
   ]
  },
  {
   "cell_type": "markdown",
   "id": "6f44a8b9",
   "metadata": {},
   "source": [
    "_First thing first_\n",
    "### Create Conda environment"
   ]
  },
  {
   "cell_type": "markdown",
   "id": "90eb0ce0",
   "metadata": {},
   "source": [
    "##### run below commands in terminal but make sure conda is installed or use anaconda prompt which you will get as part of anaconda installation\n",
    "\n",
    "1. `virtualenv --python=/usr/bin/python3 mlops-assignment` \n",
    "it will create a conda env named envname and install python version 3.9 and a ipykernel inside this environment\n",
    "\n",
    "2. Activate the environment\n",
    "`source mlops-assignment/bin/activate`\n",
    "\n",
    "\n",
    "\n",
    "3. Now install all required dependencies to run this notebook\n",
    "\n",
    "* `pip install pandas`\n",
    "* `pip install numpy`\n",
    "* `pip install scikit-learn`\n",
    "* `pip install imblearn`\n",
    "* `pip install matplotlib`\n",
    "* `pip install mlflow`\n",
    "\n",
    "Now open the notebook using below command: (from the anaconda prompt inside conda environment)\n",
    "\n",
    "`jupyter notebook`\n"
   ]
  },
  {
   "cell_type": "markdown",
   "id": "5cf5a6b9",
   "metadata": {},
   "source": [
    "#### Make sure python is used from your newly created environment."
   ]
  },
  {
   "cell_type": "code",
   "execution_count": 1,
   "id": "9fd81db9",
   "metadata": {},
   "outputs": [
    {
     "name": "stdout",
     "output_type": "stream",
     "text": [
      "/home/muzammil/anaconda3/bin/python\n"
     ]
    }
   ],
   "source": [
    "import sys\n",
    "print(sys.executable)"
   ]
  },
  {
   "cell_type": "markdown",
   "id": "e090685d-7ac7-4ba4-a16d-726a2a0f3878",
   "metadata": {},
   "source": [
    "### Setting up MLFlow tracking server\n",
    "\n",
    "We also specify artifact root and backend store URI. This makes it possible to store models.\n",
    "\n",
    "After running this command tracking server will be accessible at `localhost:5010`"
   ]
  },
  {
   "cell_type": "code",
   "execution_count": 2,
   "id": "842d53fe-b98d-433e-9ca8-0c845e6fece4",
   "metadata": {},
   "outputs": [],
   "source": [
    "%%bash --bg\n",
    "\n",
    "mlflow server --host 0.0.0.0 \\\n",
    "    --port 5010 \\\n",
    "    --backend-store-uri sqlite:///mlflow.db \\\n",
    "    --default-artifact-root ./mlruns"
   ]
  },
  {
   "cell_type": "code",
   "execution_count": 3,
   "id": "9c088d09-6369-44a3-9502-f39cec23e1c0",
   "metadata": {},
   "outputs": [
    {
     "name": "stderr",
     "output_type": "stream",
     "text": [
      "2023/05/08 09:38:54 INFO mlflow.utils.conda: Conda environment mlflow-dd0fbdd40ba98798131458f29496394bd1a3fb33 already exists.\n",
      "2023/05/08 09:38:54 INFO mlflow.projects.utils: === Created directory /tmp/tmpdh0rst0k for downloading remote URIs passed to arguments of type 'path' ===\n",
      "2023/05/08 09:38:54 INFO mlflow.projects.backend.local: === Running command 'source /home/muzammil/anaconda3/bin/../etc/profile.d/conda.sh && conda activate mlflow-dd0fbdd40ba98798131458f29496394bd1a3fb33 1>&2 && python train.py wine_dataset.csv' in run with ID 'a6a03171aecd460598bd06fd0c5638e5' === \n",
      "Successfully registered model 'sklearn_logistic_t'.\n",
      "2023/05/08 09:38:56 INFO mlflow.tracking._model_registry.client: Waiting up to 300 seconds for model version to finish creation. Model name: sklearn_logistic_t, version 1\n",
      "Created version '1' of model 'sklearn_logistic_t'.\n"
     ]
    },
    {
     "name": "stdout",
     "output_type": "stream",
     "text": [
      "Run - Wine1 is logged to Experiment \n"
     ]
    },
    {
     "name": "stderr",
     "output_type": "stream",
     "text": [
      "2023/05/08 09:38:56 INFO mlflow.projects: === Run (ID 'a6a03171aecd460598bd06fd0c5638e5') succeeded ===\n"
     ]
    }
   ],
   "source": [
    "%%bash \n",
    "source mlflow_env_vars.sh\n",
    "mlflow run . "
   ]
  },
  {
   "cell_type": "code",
   "execution_count": 16,
   "id": "d9082625-1d5d-4011-a6ac-3e709db160b4",
   "metadata": {},
   "outputs": [
    {
     "name": "stderr",
     "output_type": "stream",
     "text": [
      "/home/muzammil/anaconda3/lib/python3.10/site-packages/_distutils_hack/__init__.py:33: UserWarning: Setuptools is replacing distutils.\n",
      "  warnings.warn(\"Setuptools is replacing distutils.\")\n",
      "Registered model 'sklearn_logistic_t' already exists. Creating a new version of this model...\n",
      "2023/05/04 10:02:58 INFO mlflow.tracking._model_registry.client: Waiting up to 300 seconds for model version to finish creation. Model name: sklearn_logistic_t, version 4\n"
     ]
    },
    {
     "name": "stdout",
     "output_type": "stream",
     "text": [
      "Run - Wine1 is logged to Experiment - basic_classifier\n"
     ]
    },
    {
     "name": "stderr",
     "output_type": "stream",
     "text": [
      "Created version '4' of model 'sklearn_logistic_t'.\n"
     ]
    }
   ],
   "source": [
    "%run -i 'train.py'"
   ]
  },
  {
   "cell_type": "markdown",
   "id": "ae5ff2b8",
   "metadata": {},
   "source": [
    "## Serving model\n",
    "\n",
    "Now that we trained our models we can go to *Models* page on MLFLow UI (http://localhost:5010/#/models).\n",
    "\n",
    "Click *sklearn_logistics_T* on this page, choose a model and move it to *Production* stage.\n",
    "\n",
    "The following cell will serve the model at localhost on port 5010."
   ]
  },
  {
   "cell_type": "code",
   "execution_count": 8,
   "id": "5f2a4b70-e992-4a4d-9932-0acef6f080cf",
   "metadata": {},
   "outputs": [],
   "source": [
    "%%bash --bg\n",
    "source mlflow_env_vars.sh\n",
    "mlflow --version\n",
    "mlflow models serve -m models:/sklearn_logistic_t/Production -p 5011 --env-manager=conda \n"
   ]
  },
  {
   "cell_type": "code",
   "execution_count": 12,
   "id": "efb2b8d6-51a8-4df0-b6b6-89e05e2d478b",
   "metadata": {},
   "outputs": [
    {
     "name": "stdout",
     "output_type": "stream",
     "text": [
      "a6a03171aecd460598bd06fd0c5638e5\n"
     ]
    }
   ],
   "source": [
    "%%bash\n",
    "last_model_path=$(ls -tr mlruns/0/ | tail -1)\n",
    "echo $last_model_path\n",
    "\n"
   ]
  },
  {
   "cell_type": "markdown",
   "id": "aec13599-ac15-4c59-92df-98d984baf9df",
   "metadata": {},
   "source": [
    "# Loading the data for prediction"
   ]
  },
  {
   "cell_type": "code",
   "execution_count": 15,
   "id": "3a6be295-098c-4a11-ba3d-1252f5be7cde",
   "metadata": {},
   "outputs": [],
   "source": [
    "from sklearn import datasets\n",
    "from sklearn.model_selection import train_test_split\n",
    "from sklearn.preprocessing import StandardScaler\n",
    "import pandas as pd\n",
    "import mlflow\n",
    "import subprocess\n",
    "\n",
    "\n",
    "# Loading data\n",
    "wine_dataset_load = datasets.load_wine()\n",
    "\n",
    "\n",
    "wine_x = wine_dataset_load.data\n",
    "wine_y = wine_dataset_load.target\n",
    "\n",
    "# training model\n",
    "X_train, X_test, y_train, y_test = train_test_split(wine_x, wine_y, test_size=0.2, stratify=wine_y, random_state=47)\n",
    "\n",
    "scaler = StandardScaler()\n",
    "X_train = scaler.fit_transform(X_train)\n",
    "X_test = scaler.transform(X_test)"
   ]
  },
  {
   "cell_type": "markdown",
   "id": "abf7adb6-ef13-4a0f-85a5-866fb439038d",
   "metadata": {},
   "source": [
    "# Prediction"
   ]
  },
  {
   "cell_type": "code",
   "execution_count": 15,
   "id": "7bbb6b98",
   "metadata": {},
   "outputs": [
    {
     "ename": "NameError",
     "evalue": "name 'subprocess' is not defined",
     "output_type": "error",
     "traceback": [
      "\u001b[0;31m---------------------------------------------------------------------------\u001b[0m",
      "\u001b[0;31mNameError\u001b[0m                                 Traceback (most recent call last)",
      "Cell \u001b[0;32mIn[15], line 1\u001b[0m\n\u001b[0;32m----> 1\u001b[0m logged_model \u001b[38;5;241m=\u001b[39m \u001b[38;5;124m'\u001b[39m\u001b[38;5;124mruns:/\u001b[39m\u001b[38;5;124m'\u001b[39m \u001b[38;5;241m+\u001b[39m \u001b[43msubprocess\u001b[49m\u001b[38;5;241m.\u001b[39mcheck_output([\u001b[38;5;124m'\u001b[39m\u001b[38;5;124mls\u001b[39m\u001b[38;5;124m'\u001b[39m, \u001b[38;5;124m'\u001b[39m\u001b[38;5;124m-tr\u001b[39m\u001b[38;5;124m'\u001b[39m, \u001b[38;5;124m'\u001b[39m\u001b[38;5;124mmlruns/1/\u001b[39m\u001b[38;5;124m'\u001b[39m])\u001b[38;5;241m.\u001b[39mdecode(\u001b[38;5;124m'\u001b[39m\u001b[38;5;124mutf-8\u001b[39m\u001b[38;5;124m'\u001b[39m)\u001b[38;5;241m.\u001b[39msplit()[\u001b[38;5;241m-\u001b[39m\u001b[38;5;241m1\u001b[39m] \u001b[38;5;241m+\u001b[39m \u001b[38;5;124m'\u001b[39m\u001b[38;5;124m/model\u001b[39m\u001b[38;5;124m'\u001b[39m\n\u001b[1;32m      3\u001b[0m \u001b[38;5;66;03m# print(logged_model)\u001b[39;00m\n\u001b[1;32m      4\u001b[0m \u001b[38;5;66;03m# Load model as a PyFuncModel.\u001b[39;00m\n\u001b[1;32m      5\u001b[0m loaded_model \u001b[38;5;241m=\u001b[39m mlflow\u001b[38;5;241m.\u001b[39mpyfunc\u001b[38;5;241m.\u001b[39mload_model(logged_model)\n",
      "\u001b[0;31mNameError\u001b[0m: name 'subprocess' is not defined"
     ]
    },
    {
     "name": "stderr",
     "output_type": "stream",
     "text": [
      "\n",
      "Aborted!\n",
      "[2023-05-08 09:30:29 +0500] [26009] [INFO] Shutting down: Master\n"
     ]
    }
   ],
   "source": [
    "\n",
    "logged_model = 'runs:/' + subprocess.check_output(['ls', '-tr', 'mlruns/1/']).decode('utf-8').split()[-1] + '/model'\n",
    "\n",
    "# print(logged_model)\n",
    "# Load model as a PyFuncModel.\n",
    "loaded_model = mlflow.pyfunc.load_model(logged_model)\n",
    "\n",
    "# Predict on a Pandas DataFrame.\n",
    "\n",
    "loaded_model.predict(pd.DataFrame(X_test))\n",
    "#print(loaded_model)"
   ]
  },
  {
   "cell_type": "code",
   "execution_count": 19,
   "id": "39d8d4bf-0365-4144-991a-2cfea93e692f",
   "metadata": {},
   "outputs": [
    {
     "data": {
      "text/plain": [
       "array([ 1.69629634, -0.3559704 ,  1.204063  ,  0.12662813,  1.37800506,\n",
       "        0.81776615,  1.0941454 , -0.28675063,  0.6769204 ,  0.54078152,\n",
       "        0.47263301,  0.04467224,  1.72384484])"
      ]
     },
     "execution_count": 19,
     "metadata": {},
     "output_type": "execute_result"
    }
   ],
   "source": [
    "X_test[0]"
   ]
  },
  {
   "cell_type": "code",
   "execution_count": 24,
   "id": "d771475e-f366-4396-9da8-d1f25e85b747",
   "metadata": {},
   "outputs": [
    {
     "name": "stderr",
     "output_type": "stream",
     "text": [
      "bash: line 3: data:: command not found\n"
     ]
    },
    {
     "name": "stdout",
     "output_type": "stream",
     "text": [
      "\n"
     ]
    },
    {
     "name": "stderr",
     "output_type": "stream",
     "text": [
      "  % Total    % Received % Xferd  Average Speed   Time    Time     Time  Current\n",
      "                                 Dload  Upload   Total   Spent    Left  Speed\n",
      "  0     0    0     0    0     0      0      0 --:--:-- --:--:-- --:--:--     0*   Trying 127.0.0.1:5011...\n",
      "* Connected to 127.0.0.1 (127.0.0.1) port 5011 (#0)\n",
      "> POST /invocations HTTP/1.1\n",
      "> Host: 127.0.0.1:5011\n",
      "> User-Agent: curl/7.87.0\n",
      "> Accept: */*\n",
      "> Content-Type: application/json\n",
      "> Content-Length: 12\n",
      "> \n",
      "} [12 bytes data]\n",
      "* Mark bundle as not supporting multiuse\n",
      "< HTTP/1.1 400 BAD REQUEST\n",
      "< Server: gunicorn\n",
      "< Date: Mon, 08 May 2023 04:47:44 GMT\n",
      "< Connection: close\n",
      "< Content-Type: application/json\n",
      "< Content-Length: 208\n",
      "< \n",
      "{ [208 bytes data]\n",
      "100   220  100   208  100    12   222k  13143 --:--:-- --:--:-- --:--:--  214k\n",
      "* Closing connection 0\n"
     ]
    },
    {
     "name": "stdout",
     "output_type": "stream",
     "text": [
      "{\"error_code\": \"BAD_REQUEST\", \"message\": \"Failed to parse input from JSON. Ensure that input is a valid JSON formatted string. Error: 'Expecting value: line 1 column 12 (char 11)'. Input: \\n{\\\"inputs\\\": }\\n\"}"
     ]
    }
   ],
   "source": [
    "%%bash\n",
    "\n",
    "#data= '[[1.69629634, -0.3559704 ,  1.204063  ,  0.12662813,  1.37800506,0.81776615,  1.0941454 , -0.28675063,  0.6769204 ,  0.54078152,0.47263301,  0.04467224]]'\n",
    "data: '[[1.69629634, -0.3559704 ,  1.204063  ,  0.12662813,  1.37800506,0.81776615,  1.0941454 , -0.28675063,  0.6769204 ,  0.54078152,0.47263301,  0.04467224]]'\n",
    "echo $data\n",
    "\n",
    "curl -v -d \"{\\\"inputs\\\": $data}\" -H 'Content-Type: application/json' 127.0.0.1:5011/invocations"
   ]
  },
  {
   "cell_type": "code",
   "execution_count": null,
   "id": "d594e855-e202-4508-abc3-81e07060eb65",
   "metadata": {},
   "outputs": [],
   "source": []
  },
  {
   "cell_type": "markdown",
   "id": "fb63bb36-8192-43b3-bc61-b98e4bb2e442",
   "metadata": {},
   "source": [
    "# Thank You "
   ]
  },
  {
   "cell_type": "code",
   "execution_count": null,
   "id": "8da133cc",
   "metadata": {},
   "outputs": [],
   "source": []
  },
  {
   "cell_type": "code",
   "execution_count": 24,
   "id": "3c0e3da5",
   "metadata": {},
   "outputs": [],
   "source": []
  },
  {
   "cell_type": "code",
   "execution_count": 25,
   "id": "2b485e52",
   "metadata": {},
   "outputs": [],
   "source": []
  },
  {
   "cell_type": "code",
   "execution_count": null,
   "id": "55d29fda",
   "metadata": {},
   "outputs": [],
   "source": []
  },
  {
   "cell_type": "code",
   "execution_count": 27,
   "id": "19e4fd5d",
   "metadata": {},
   "outputs": [],
   "source": []
  },
  {
   "cell_type": "code",
   "execution_count": null,
   "id": "5f7765b7",
   "metadata": {},
   "outputs": [],
   "source": []
  },
  {
   "cell_type": "code",
   "execution_count": null,
   "id": "ceef3c86",
   "metadata": {},
   "outputs": [],
   "source": []
  },
  {
   "cell_type": "code",
   "execution_count": null,
   "id": "2bdeda22",
   "metadata": {},
   "outputs": [],
   "source": []
  },
  {
   "cell_type": "code",
   "execution_count": null,
   "id": "2ff3c7fb",
   "metadata": {},
   "outputs": [],
   "source": []
  },
  {
   "cell_type": "code",
   "execution_count": null,
   "id": "4ce51f26",
   "metadata": {},
   "outputs": [],
   "source": []
  },
  {
   "cell_type": "markdown",
   "id": "bc429fce",
   "metadata": {},
   "source": []
  },
  {
   "cell_type": "code",
   "execution_count": null,
   "id": "e5756180",
   "metadata": {},
   "outputs": [],
   "source": []
  },
  {
   "cell_type": "code",
   "execution_count": null,
   "id": "af260494",
   "metadata": {},
   "outputs": [],
   "source": []
  },
  {
   "cell_type": "markdown",
   "id": "828a00fb",
   "metadata": {},
   "source": []
  },
  {
   "cell_type": "code",
   "execution_count": 50,
   "id": "26f2c095",
   "metadata": {},
   "outputs": [],
   "source": []
  },
  {
   "cell_type": "markdown",
   "id": "00c5b47c",
   "metadata": {},
   "source": []
  },
  {
   "cell_type": "code",
   "execution_count": null,
   "id": "5a0d0f40",
   "metadata": {},
   "outputs": [],
   "source": []
  },
  {
   "cell_type": "code",
   "execution_count": null,
   "id": "163fd982",
   "metadata": {},
   "outputs": [],
   "source": []
  },
  {
   "cell_type": "code",
   "execution_count": null,
   "id": "2d8bafa5",
   "metadata": {},
   "outputs": [],
   "source": []
  },
  {
   "cell_type": "code",
   "execution_count": null,
   "id": "f520e4c9",
   "metadata": {},
   "outputs": [],
   "source": []
  },
  {
   "cell_type": "code",
   "execution_count": null,
   "id": "d3a466fc",
   "metadata": {},
   "outputs": [],
   "source": []
  },
  {
   "cell_type": "markdown",
   "id": "7da88ce8",
   "metadata": {},
   "source": []
  },
  {
   "cell_type": "markdown",
   "id": "c51dadd7",
   "metadata": {},
   "source": []
  },
  {
   "cell_type": "markdown",
   "id": "dea7af37",
   "metadata": {},
   "source": []
  },
  {
   "cell_type": "code",
   "execution_count": null,
   "id": "5ac6b8d7",
   "metadata": {},
   "outputs": [],
   "source": []
  }
 ],
 "metadata": {
  "kernelspec": {
   "display_name": "Python 3 (ipykernel)",
   "language": "python",
   "name": "python3"
  },
  "language_info": {
   "codemirror_mode": {
    "name": "ipython",
    "version": 3
   },
   "file_extension": ".py",
   "mimetype": "text/x-python",
   "name": "python",
   "nbconvert_exporter": "python",
   "pygments_lexer": "ipython3",
   "version": "3.10.9"
  }
 },
 "nbformat": 4,
 "nbformat_minor": 5
}
